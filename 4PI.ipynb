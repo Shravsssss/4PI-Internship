{
  "cells": [
    {
      "cell_type": "markdown",
      "metadata": {
        "id": "ZGlfXcBYUomp"
      },
      "source": [
        "Dataset: \\\n",
        "Wright-stained Bone Marrow Aspirates \\\n",
        "https://rdr.ucl.ac.uk/articles/dataset/High_Magnification_Z-Stacks_from_Blood_Films/13402301?file=25809977"
      ]
    },
    {
      "cell_type": "markdown",
      "metadata": {
        "id": "PgwGWPl4lehT"
      },
      "source": [
        "# **Prepprocessing Techniques**\n",
        "\n",
        "---\n",
        "\n"
      ]
    },
    {
      "cell_type": "code",
      "metadata": {
        "colab": {
          "base_uri": "https://localhost:8080/"
        },
        "id": "D012NAIuorMu",
        "outputId": "6ceff19f-740c-41aa-f541-75ae53814cf7"
      },
      "source": [
        "from google.colab import drive\n",
        "drive.mount('/content/drive')\n",
        "!ls\n",
        "import sys\n",
        "root_path = '/content/drive/My Drive/Dataset/' # This is the path to where in google drive the code is stored!\n",
        "sys.path.append(root_path)\n"
      ],
      "execution_count": null,
      "outputs": [
        {
          "output_type": "stream",
          "name": "stdout",
          "text": [
            "Drive already mounted at /content/drive; to attempt to forcibly remount, call drive.mount(\"/content/drive\", force_remount=True).\n",
            "drive  sample_data\n"
          ]
        }
      ]
    },
    {
      "cell_type": "markdown",
      "metadata": {
        "id": "xt153flifXmK"
      },
      "source": [
        "###**Required libraries**"
      ]
    },
    {
      "cell_type": "code",
      "execution_count": null,
      "metadata": {
        "colab": {
          "base_uri": "https://localhost:8080/"
        },
        "id": "bq_5cq9xnCkO",
        "outputId": "b2535fb0-a933-47ce-ea4f-7a4f306001b8"
      },
      "outputs": [
        {
          "output_type": "stream",
          "name": "stdout",
          "text": [
            "Looking in indexes: https://pypi.org/simple, https://us-python.pkg.dev/colab-wheels/public/simple/\n",
            "Collecting image-similarity-measures\n",
            "  Downloading image_similarity_measures-0.3.5-py3-none-any.whl (9.1 kB)\n",
            "Collecting phasepack\n",
            "  Downloading phasepack-1.5.tar.gz (15 kB)\n",
            "Requirement already satisfied: scikit-image in /usr/local/lib/python3.7/dist-packages (from image-similarity-measures) (0.18.3)\n",
            "Collecting rasterio\n",
            "  Downloading rasterio-1.2.10-cp37-cp37m-manylinux1_x86_64.whl (19.3 MB)\n",
            "\u001b[K     |████████████████████████████████| 19.3 MB 1.2 MB/s \n",
            "\u001b[?25hRequirement already satisfied: opencv-python in /usr/local/lib/python3.7/dist-packages (from image-similarity-measures) (4.1.2.30)\n",
            "Collecting pyfftw\n",
            "  Downloading pyFFTW-0.13.0-cp37-cp37m-manylinux_2_5_x86_64.manylinux1_x86_64.whl (1.7 MB)\n",
            "\u001b[K     |████████████████████████████████| 1.7 MB 41.0 MB/s \n",
            "\u001b[?25hRequirement already satisfied: numpy in /usr/local/lib/python3.7/dist-packages (from image-similarity-measures) (1.21.6)\n",
            "Collecting cligj>=0.5\n",
            "  Downloading cligj-0.7.2-py3-none-any.whl (7.1 kB)\n",
            "Collecting click-plugins\n",
            "  Downloading click_plugins-1.1.1-py2.py3-none-any.whl (7.5 kB)\n",
            "Requirement already satisfied: certifi in /usr/local/lib/python3.7/dist-packages (from rasterio->image-similarity-measures) (2022.6.15)\n",
            "Requirement already satisfied: click>=4.0 in /usr/local/lib/python3.7/dist-packages (from rasterio->image-similarity-measures) (7.1.2)\n",
            "Collecting affine\n",
            "  Downloading affine-2.3.1-py2.py3-none-any.whl (16 kB)\n",
            "Collecting snuggs>=1.4.1\n",
            "  Downloading snuggs-1.4.7-py3-none-any.whl (5.4 kB)\n",
            "Requirement already satisfied: setuptools in /usr/local/lib/python3.7/dist-packages (from rasterio->image-similarity-measures) (57.4.0)\n",
            "Requirement already satisfied: attrs in /usr/local/lib/python3.7/dist-packages (from rasterio->image-similarity-measures) (21.4.0)\n",
            "Requirement already satisfied: pyparsing>=2.1.6 in /usr/local/lib/python3.7/dist-packages (from snuggs>=1.4.1->rasterio->image-similarity-measures) (3.0.9)\n",
            "Requirement already satisfied: networkx>=2.0 in /usr/local/lib/python3.7/dist-packages (from scikit-image->image-similarity-measures) (2.6.3)\n",
            "Requirement already satisfied: imageio>=2.3.0 in /usr/local/lib/python3.7/dist-packages (from scikit-image->image-similarity-measures) (2.4.1)\n",
            "Requirement already satisfied: tifffile>=2019.7.26 in /usr/local/lib/python3.7/dist-packages (from scikit-image->image-similarity-measures) (2021.11.2)\n",
            "Requirement already satisfied: PyWavelets>=1.1.1 in /usr/local/lib/python3.7/dist-packages (from scikit-image->image-similarity-measures) (1.3.0)\n",
            "Requirement already satisfied: scipy>=1.0.1 in /usr/local/lib/python3.7/dist-packages (from scikit-image->image-similarity-measures) (1.4.1)\n",
            "Requirement already satisfied: matplotlib!=3.0.0,>=2.0.0 in /usr/local/lib/python3.7/dist-packages (from scikit-image->image-similarity-measures) (3.2.2)\n",
            "Requirement already satisfied: pillow!=7.1.0,!=7.1.1,>=4.3.0 in /usr/local/lib/python3.7/dist-packages (from scikit-image->image-similarity-measures) (7.1.2)\n",
            "Requirement already satisfied: cycler>=0.10 in /usr/local/lib/python3.7/dist-packages (from matplotlib!=3.0.0,>=2.0.0->scikit-image->image-similarity-measures) (0.11.0)\n",
            "Requirement already satisfied: python-dateutil>=2.1 in /usr/local/lib/python3.7/dist-packages (from matplotlib!=3.0.0,>=2.0.0->scikit-image->image-similarity-measures) (2.8.2)\n",
            "Requirement already satisfied: kiwisolver>=1.0.1 in /usr/local/lib/python3.7/dist-packages (from matplotlib!=3.0.0,>=2.0.0->scikit-image->image-similarity-measures) (1.4.3)\n",
            "Requirement already satisfied: typing-extensions in /usr/local/lib/python3.7/dist-packages (from kiwisolver>=1.0.1->matplotlib!=3.0.0,>=2.0.0->scikit-image->image-similarity-measures) (4.1.1)\n",
            "Requirement already satisfied: six>=1.5 in /usr/local/lib/python3.7/dist-packages (from python-dateutil>=2.1->matplotlib!=3.0.0,>=2.0.0->scikit-image->image-similarity-measures) (1.15.0)\n",
            "Building wheels for collected packages: phasepack\n",
            "  Building wheel for phasepack (setup.py) ... \u001b[?25l\u001b[?25hdone\n",
            "  Created wheel for phasepack: filename=phasepack-1.5-py3-none-any.whl size=26984 sha256=7844bd8b11aded16e236a27f152bac1e3c141f17b8ed3780afa8f6298de18062\n",
            "  Stored in directory: /root/.cache/pip/wheels/39/5c/b3/79292d7ac3f088e858805b5515b45cf5a365106397d936caf1\n",
            "Successfully built phasepack\n",
            "Installing collected packages: snuggs, cligj, click-plugins, affine, rasterio, pyfftw, phasepack, image-similarity-measures\n",
            "Successfully installed affine-2.3.1 click-plugins-1.1.1 cligj-0.7.2 image-similarity-measures-0.3.5 phasepack-1.5 pyfftw-0.13.0 rasterio-1.2.10 snuggs-1.4.7\n"
          ]
        }
      ],
      "source": [
        "!pip install image-similarity-measures"
      ]
    },
    {
      "cell_type": "code",
      "execution_count": null,
      "metadata": {
        "id": "HPGnQ-7QTHyN"
      },
      "outputs": [],
      "source": [
        "import numpy as np\n",
        "import cv2 \n",
        "from matplotlib import pyplot as plt\n",
        "from PIL import Image\n",
        "from math import log10, sqrt\n",
        "from image_similarity_measures.quality_metrics import fsim\n",
        "import glob\n",
        "from skimage.metrics import structural_similarity as ssim"
      ]
    },
    {
      "cell_type": "code",
      "source": [
        "import numpy as np\n",
        "from sklearn.metrics import accuracy_score, f1_score, precision_score, confusion_matrix\n",
        "from sklearn.model_selection import KFold\n",
        "from PIL import Image, ImageFilter\n",
        "import random\n",
        "import tensorflow as tf\n",
        "from tensorflow import keras\n",
        "from tensorflow.keras import layers\n",
        "from tensorflow.keras.models import Sequential\n",
        "from tensorflow.keras.layers import Dense\n",
        "from keras.preprocessing.image import ImageDataGenerator\n",
        "from tensorflow.keras.layers import Dropout\n",
        "from tensorflow.keras.layers import Flatten\n",
        "from tensorflow.keras.layers import Conv2D\n",
        "from tensorflow.keras.layers import MaxPooling2D\n",
        "from tensorflow.compat.v1 import ConfigProto\n",
        "from tensorflow.compat.v1 import InteractiveSession\n",
        "import warnings\n",
        "import os\n",
        "import shutil\n",
        "from PIL import ImageFile\n",
        "warnings.simplefilter('error', Image.DecompressionBombWarning)\n",
        "ImageFile.LOAD_TRUNCATED_IMAGES = True\n",
        "from PIL import Image\n",
        "Image.MAX_IMAGE_PIXELS = 1000000000\n",
        "config = ConfigProto()\n",
        "config.gpu_options.allow_growth = True\n",
        "session = InteractiveSession(config=config)"
      ],
      "metadata": {
        "colab": {
          "base_uri": "https://localhost:8080/"
        },
        "id": "dTcIiodT9w3a",
        "outputId": "09656cff-4c33-4396-caff-a38d25f3405a"
      },
      "execution_count": null,
      "outputs": [
        {
          "output_type": "stream",
          "name": "stderr",
          "text": [
            "/usr/local/lib/python3.7/dist-packages/tensorflow/python/client/session.py:1768: UserWarning: An interactive session is already active. This can cause out-of-memory errors in some cases. You must explicitly call `InteractiveSession.close()` to release resources held by the other session(s).\n",
            "  warnings.warn('An interactive session is already active. This can '\n"
          ]
        }
      ]
    },
    {
      "cell_type": "markdown",
      "metadata": {
        "id": "kVxYAPrjkm9x"
      },
      "source": [
        "###**MSE and PSNR functions:**"
      ]
    },
    {
      "cell_type": "markdown",
      "metadata": {
        "id": "5CJo__inNYgc"
      },
      "source": [
        "MSE : \\\n",
        "\n",
        "![image.png](data:image/png;base64,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)\n",
        "\n",
        "PSNR : \\\n",
        "\n",
        "![image.png](data:image/png;base64,iVBORw0KGgoAAAANSUhEUgAAATAAAAAgCAYAAACVWiTcAAAKD0lEQVR4nO2dPZLjyBGFv1HIkyHqBIM9gbgnaMjcCEUM9wRNnaBpyZ2Wu464lqwNcU6wLUvmUBeQOBHyl3uCpU4wMgpvkEhmASSbf92sF4HoJlj4ISorM+tlZuENBQXXhQmwBmpgDEwvezsFBQWXxuTSNxCgBiq3bwwszOdl066goOBGMQdGbt8ImJEUxJzk5fg2x8SIWBE9Btcdm//XbCu5gtNgQjIeT6R+Gfc3fzaKZ10wiJq8oFTAZ06rIGrSYFg2f6N7mGeOnTVbwfmQ66dj4rHZPp/4OgWvAE89301JHs45IKGN8MS2F9aneAtOh8+cb8p+FAX2q2OcpOAqMeRZ1SSLe2ks6XJ0FUmhLUjTmFNPZQoSpLiuQSZ2xq8vfQMFJ8MYWPV8r+ndpbGiVWAjWs5O08dC4p8HNfCvS9/EvigK7PWiz3OpgLdch7Xd0N7rhuuMmN4CrsUj3wtFgb1u5DiuGvg5+D4nxEOe2ppu+sM+6PMSC86HO+J+jjz5mmHPeMEZONaiwF43cjxYTlGNM/tPOdUsHNflkeO/JsQGZhm0vQgKif960SdgkQKbkqZw58aI4oVdGhH/NeK8keqLYURyP0fmc8F5MWbbpR+xraTGwAMphP1A6rcH4O8k5XXsvpNsfAT+0/zvvcIZ+6VMzCgyNoRd8+dGwDvgJ5IM3DWf3wO/cJpUlppWBu/ZzwPfSrh+4xo80lpim0OkhENvKfWgVrTh74ruA5yRXNHfA79zP2TW/IA53YTGSXMftduv8PopLXYuZ2lCO/gWtN6KImaXGlgj0v1GQvtE17OqyE8r15zH2o7oenr+Hnc5Pvd7jwn1d8W2zMlgbNgeK1NaGTqUF3wOHpv72XWM5LiszR7n2Ae+//c9drDvV2xr3hnJgvp9vt082AetK+q/s0rBQx3hz/NTpv1zISUUJdg90g31L+kqq5r+pNFTYk4/13XNCaEVh/FrU04brbSWfkwacBroFd2+trIhyKCfG4c+z5cEOTchRsTlJTO2tWZkrafBsdr/SKwEc1gG3084fQlCdH7/272iPodHEEEeaR/6FNylEdVp7opTksg2Nw3aGkFI92z72kfpRlyON1pwvX19THwxIJ7Ez4XXVehp8ZY0V7ZYBseKMJ4TczU53LEtpDPg+x2PPxY0VbCwFlltogElDygSKi0VM+LwQZyLElnMuM5kUCXSHjqd2HC6wepl2PKDXmGtSPSIkJOFitTf74LvxEXVPI+GGHMDpHuDCrbTKPzDr0iEW1Tk+T2t57EEPhBPoypzzg+kTtQULCe8GnC/pQ0Q/IGkRHMex7hpP4RDso0jobCDJ7LCC1oeZE56NnoO8mgXtBzhIUrGPts+XIKLGcJzPShN06K+GdFVKjlExhq2p4QTWvnPkc4aO7kIr6Z3Y5Is6BpjWu65oqVw9n0+FZeJIl8CKxplHXlgIsoeSQ9FispjBnzdfP8V8CPDFnFOijxU9Gf+Kqz7ptm+avb3DcSNaZ/b/jdwf4cg+h1StFJqT3RLY7xHuzLfqQZQUDjbDiJ77VtGHwE9JAtv2G3Ay0Crv4aMpJcHeeHquxXJ25KnJSMm0lwVEuNmv5d5cc9TunIi5XcL+FK9YT0wWa0pww9C3tOq2R5peYPc8ig0bT4RRzotRIpLEJYkbsru8zhlFK1PaGviCNXEtdFg8dGp2nyWBbfTiAXt8xo157XPLRqE3wG/6bnnl4Z/Az/secwxODIVk1u+8+dM2zUtHWDlsC8aKRlRe5uPtWabi5NsaIw9ue8jWfgG+GPm+i8B/wX+5vataIyXVWA1yUMZUl5j4hyjKOwaeSdzEnfWx2Xd0SVKd+E66ua4IfxlhzYWtlbPwnpNWphP3Jh/DjbD3U83hyKF72gFc01XgeVyt/7cc77XhJwHVZE8/SF8IG/0pLim5vOK7UUWR6Rxo75Zmv0bkkza/p2QlKDkyntr+hz9Ni9b0UKVHv9stteEL563V2C7WK2I1Nb82x8frXggTqiP//KKVAKzIrZycLryhhVJ4CzfIt4C2mDDlLb+y/42KXxZTesp1kH7IVhleitThgiRERXW7G+o/LnvSbSIjOLXpOftp/h23EjJKbiyoVVWgk0/8v1uFWaEiPO0s6HXnkJhsYQUhaxIHtE9af49lDekATmlzdwVCSlUwF+bc/pIJaTBnKu5e0+aLtrj1iSlVpGE4xRk5ZR0zzR/7fUntImqUuBSHp9Iz0BK6an5/12zTei6+co3m9LyK4fiiyt9BbBr3J8jlJ+r2zwGlMKzNJvlrCq648AmdCuZW/IwI8n1HUnutUIttCkuDyQZGVohJPIWN+bvNVYo+EqdY8hGNMvZ64Z0I9GLGU4FXe9SnSTlFU0no2ewy316DgOSgFulZIVWitSf41AoYLPqOY+83dxyw1LI4v08Rwctr7qhDRA90nri+yrhXfLfTo1cSlCu34fkIZoB+X1+mW0/iL3sRNdYkBwEKVNxdF6uFTVVn0UYN+cST+shx0ayEVW56BorurKh+/S4hr6/WdgMcikGn9H/kWSRJVA2jytKVDxGntcT+QoH+5qz6DuvUG3EzV8jCvBIwPeBIuQvGRVpiios2F6Z9oG2hhSSrMg4RPTMLoM7KtBWtUH0gpW+1KVc5Qqkvvb9Gu2DuEpH7T3O8cKRggxkXTTI/SCszWY7SSH13KB9Tka7rhUJoryMnJBGrz3LrRWVW6xwX69az+KlQ/lgomD8s9GMwz9PTVtzg9hTFh6RQlL/+3PKuETTWpX05Ka8uZI8j76Xy3il9lr6vsBhxOFWSQIRCdGQkK7Z5jgjZaQBYlcsmfa078O1cH7XjL5nFHk7Ud0xtIstREE7eWeRUlJJor9O1NfeI7S0VPSyl4KCDqTAvDclK54TUkjC97nZfiRv+Wek5VneN9tHXv4U8CVC3s49aVqqVVhz/WuNm4XNX8spFXFYv5BkI2dgFyT6QrJxqUURCl4oJKS2WsC+DahPSNV2RiJhc6/lsvyX5XEKzgt5O5qW2rI+DxuksDKgKb+UYR+UbrQmKbLIaFmPUEGlgoKdYLk2a4llYfuENBJGvdXZw/NfPru84DyI+C/lMHrMXJsJ3Tes56iF3OIEkSGM+C8b5BqkRcqS0rcNWxUgAbPZ5LlXbeWEKyrnqkilWFbYbSTtVlZPuAZEhHzEcXmoeNrLRm4Flsi4afFH39YX1Es2dllppSiwG4e1lGtSIqWtDOgT0mgJa61e6tt+Ylt4b2bN9StB9Co9reCyMZ8jKFfPTv33UWBa5meXUkO134kjLW8luk3UJCJXOV5aOeMftNZWlQTREjGy2o8kQh7gT3Snj6pHnJAGiY1WSnl9e8TfVJDHjDaX7J62BnRFqnDRIgFayuee9mUrqkSQBzVpzvWWtk7Xl/3VpD5XnuO3dKepVr5WdGVD66bZ5eez+D9fIJgBewDYKAAAAABJRU5ErkJggg==)"
      ]
    },
    {
      "cell_type": "code",
      "execution_count": null,
      "metadata": {
        "id": "9rF1Mu5wJ6mD"
      },
      "outputs": [],
      "source": [
        "def MSE(img1, img2):\n",
        "    mse = np.mean((img1 - img2) ** 2)\n",
        "    return mse\n",
        "\n",
        "def PSNR(img1, img2):\n",
        "    mse = MSE(img1, img2)\n",
        "    if(mse == 0):  # MSE is zero means no noise is present in the signal .\n",
        "                  # Therefore PSNR have no importance.\n",
        "        return 100\n",
        "    max_pixel = 255.0\n",
        "    psnr = 20 * log10(max_pixel / sqrt(mse))\n",
        "    return psnr\n"
      ]
    },
    {
      "cell_type": "markdown",
      "metadata": {
        "id": "_oGMvlJnfi3o"
      },
      "source": [
        "###**Mean Filtering**"
      ]
    },
    {
      "cell_type": "markdown",
      "metadata": {
        "id": "SAav-4Ge1FbQ"
      },
      "source": [
        "A method of ‘smoothing’ images by reducing the amount of intensity variation between neighbouring pixels. The average filter works by moving through the image pixel by pixel, replacing each value with the average value of neighbouring pixels, including itself."
      ]
    },
    {
      "cell_type": "code",
      "execution_count": null,
      "metadata": {
        "colab": {
          "base_uri": "https://localhost:8080/"
        },
        "id": "sVGyJpFS06pb",
        "outputId": "7362b4bc-4591-4bdf-bed8-58c30c4577f6"
      },
      "outputs": [
        {
          "name": "stdout",
          "output_type": "stream",
          "text": [
            "/content/bm_aml/pos001_1_EDOF_RGB.tiff\n",
            "/content/bm_aml/pos002_2_EDOF_RGB.tiff\n",
            "/content/bm_aml/pos004_3_EDOF_RGB.tiff\n",
            "/content/bm_aml/pos007_1_EDOF_RGB.tiff\n",
            "/content/bm_aml/pos006_1_EDOF_RGB.tiff\n",
            "/content/bm_aml/pos006_0_EDOF_RGB.tiff\n",
            "/content/bm_aml/pos005_2_EDOF_RGB.tiff\n",
            "/content/bm_aml/pos001_0_EDOF_RGB.tiff\n",
            "/content/bm_aml/pos003_3_EDOF_RGB.tiff\n",
            "/content/bm_aml/pos006_3_EDOF_RGB.tiff\n",
            "/content/bm_aml/pos008_3_EDOF_RGB.tiff\n",
            "/content/bm_aml/pos004_1_EDOF_RGB.tiff\n",
            "/content/bm_aml/pos002_1_EDOF_RGB.tiff\n",
            "/content/bm_aml/pos009_1_EDOF_RGB.tiff\n",
            "/content/bm_aml/pos002_0_EDOF_RGB.tiff\n",
            "/content/bm_aml/pos003_2_EDOF_RGB.tiff\n",
            "/content/bm_aml/pos000_3_EDOF_RGB.tiff\n",
            "/content/bm_aml/pos007_0_EDOF_RGB.tiff\n",
            "/content/bm_aml/pos002_3_EDOF_RGB.tiff\n",
            "/content/bm_aml/pos003_1_EDOF_RGB.tiff\n",
            "/content/bm_aml/pos005_0_EDOF_RGB.tiff\n",
            "/content/bm_aml/pos007_3_EDOF_RGB.tiff\n",
            "/content/bm_aml/pos000_1_EDOF_RGB.tiff\n",
            "/content/bm_aml/pos004_2_EDOF_RGB.tiff\n",
            "/content/bm_aml/pos000_2_EDOF_RGB.tiff\n",
            "/content/bm_aml/pos001_3_EDOF_RGB.tiff\n",
            "/content/bm_aml/pos008_2_EDOF_RGB.tiff\n",
            "/content/bm_aml/pos006_2_EDOF_RGB.tiff\n",
            "/content/bm_aml/pos003_0_EDOF_RGB.tiff\n",
            "/content/bm_aml/pos001_2_EDOF_RGB.tiff\n",
            "/content/bm_aml/pos000_0_EDOF_RGB.tiff\n"
          ]
        }
      ],
      "source": [
        "mse_mean_filtering_data = []\n",
        "psnr_mean_filtering_data = []\n",
        "ssim_mean_filtering_data = []\n",
        "fsim_mean_filtering_data = []\n",
        "\n",
        "\n",
        "\n",
        "for img in glob.glob(root_path + \"train/edof/bm-aml/*.*\"):\n",
        "    print(img)\n",
        "    img = cv2.imread(img)\n",
        "    image = cv2.cvtColor(img, cv2.COLOR_BGR2HSV) # convert to HSV\n",
        "    figure_size = 9 # the dimension of the x and y axis of the kernal.\n",
        "    new_image = cv2.blur(image,(figure_size, figure_size))\n",
        "    #MSE\n",
        "    mse = MSE(img, new_image)\n",
        "    mse_mean_filtering_data.append(mse)\n",
        "    #PSNR\n",
        "    psnr = PSNR(img, new_image)\n",
        "    psnr_mean_filtering_data.append(psnr)\n",
        "    #SSIM\n",
        "    (score, diff) = ssim(img, new_image, full=True, multichannel=True)\n",
        "    ssim_mean_filtering_data.append(score)\n",
        "    #FSIM\n",
        "    fsim_val = fsim(img, new_image)\n",
        "    fsim_mean_filtering_data.append(fsim_val)\n",
        "\n"
      ]
    },
    {
      "cell_type": "code",
      "execution_count": null,
      "metadata": {
        "colab": {
          "base_uri": "https://localhost:8080/"
        },
        "id": "blKjuw2Eg69F",
        "outputId": "6f0a1486-7b19-463e-b69e-7812646ed278"
      },
      "outputs": [
        {
          "name": "stdout",
          "output_type": "stream",
          "text": [
            "[77.1365576171875, 82.33400957272377, 78.28227569203318, 78.24726689091435, 77.08653127411266, 79.49392771026234, 77.45134868103781, 79.67540738329475, 79.33352117091049, 79.48922085985726, 79.05260669849537, 73.72037669994214, 87.22523588204089, 79.84482723283179, 81.67255244502314, 79.61862009307485, 77.14664641203704, 79.09758168161652, 90.60353310667438, 80.43636586130401, 79.39441599151235, 77.4457383294753, 78.16258252555942, 77.40717930169752, 77.34028802565587, 77.92287471064814, 79.42764726803627, 80.27537254050925, 79.57335648148148, 77.92629665798611, 78.26839644820602]\n",
            "[29.258201072196414, 28.97501095293539, 29.19416918612057, 29.1961118391363, 29.261018570622284, 29.12746405326475, 29.24051376220938, 29.117560681527692, 29.13623630252993, 29.127721207457135, 29.15164165839307, 29.454928151362807, 28.724382082894042, 29.10833575359043, 29.010042324195204, 29.120657145120234, 29.257633089703955, 29.14917155225917, 28.55935227442588, 29.076279200525462, 29.132904023873245, 29.24082836395861, 29.200814606424682, 29.242991187054706, 29.246745757566707, 29.21415394821502, 29.13108662395596, 29.084980311586506, 29.12312683457303, 29.2139632339708, 29.194939247205653]\n",
            "[0.4797251881253652, 0.4822534897725981, 0.5075825585043175, 0.47360879285641616, 0.4630952554767476, 0.4881610905686549, 0.4991238438457801, 0.47241669230062505, 0.4663348285337096, 0.46721629922013924, 0.4487334271260805, 0.46857053868623416, 0.500512601582314, 0.45390070826332335, 0.4751269515788115, 0.45128904186787505, 0.48363435910675506, 0.4861118188979557, 0.5018544617694914, 0.4545372193388803, 0.4643512437790524, 0.46673307571428463, 0.4898244163692236, 0.4906620421690253, 0.4924349274899919, 0.5071062323754657, 0.44415052259532506, 0.46221670906381657, 0.4697823020632718, 0.4936482226842296, 0.48901126475361084]\n",
            "[0.41436724006442893, 0.4177139184758734, 0.4199228363967369, 0.4096674034253211, 0.4074478785345221, 0.42552983867230876, 0.4185418326230271, 0.42393465705304667, 0.4076783088764057, 0.4189101285295093, 0.40113797470713264, 0.4082705853322019, 0.4307557960398638, 0.412548737279621, 0.42504964157677855, 0.402367833770505, 0.4164939589989484, 0.4227981271038956, 0.4347600167274321, 0.4044492253798377, 0.4110026561174553, 0.409285700831237, 0.4176787111945264, 0.41877464363913014, 0.4175484271750885, 0.4151710488547054, 0.403944135344749, 0.4130250706057838, 0.41505038720551685, 0.42015672464677456, 0.41797088863897897]\n"
          ]
        }
      ],
      "source": [
        "print(mse_mean_filtering_data)\n",
        "print(psnr_mean_filtering_data)\n",
        "print(ssim_mean_filtering_data)\n",
        "print(fsim_mean_filtering_data)"
      ]
    },
    {
      "cell_type": "code",
      "execution_count": null,
      "metadata": {
        "colab": {
          "base_uri": "https://localhost:8080/",
          "height": 938
        },
        "id": "O4BuOY3mlVFg",
        "outputId": "6fe6512a-7777-4f76-e84f-89c4420af635"
      },
      "outputs": [
        {
          "data": {
            "image/png": "[encoded data removed]",
            "text/plain": [
              "<Figure size 1728x1152 with 1 Axes>"
            ]
          },
          "metadata": {},
          "output_type": "display_data"
        }
      ],
      "source": [
        "\n",
        "plt.figure(figsize=(24,16))\n",
        "plt.plot(mse_mean_filtering_data, label = \"mse_mean_filtering_data\")\n",
        "plt.plot(psnr_mean_filtering_data, label = \"psnr_mean_filtering_data\")\n",
        "plt.plot(ssim_mean_filtering_data, label = \"ssim_mean_filtering_data\")\n",
        "plt.plot(fsim_mean_filtering_data, label = \"fsim_mean_filtering_data\")\n",
        "plt.legend()\n",
        "plt.xlabel('Images')\n",
        "plt.ylabel('Measure Values')\n",
        "plt.title('Mean Filtering')\n",
        "plt.show()\n"
      ]
    },
    {
      "cell_type": "markdown",
      "metadata": {
        "id": "ck6TvYHVfoxp"
      },
      "source": [
        "###**Median Filtering**"
      ]
    },
    {
      "cell_type": "markdown",
      "metadata": {
        "id": "lUhkMCyh5l8I"
      },
      "source": [
        "Calculates the median of the pixel intensities that surround the center pixel in a nxn kernel. The median then replaces the pixel intensity of the center pixel. "
      ]
    },
    {
      "cell_type": "code",
      "execution_count": null,
      "metadata": {
        "colab": {
          "base_uri": "https://localhost:8080/"
        },
        "id": "7XfqnoPc2ppP",
        "outputId": "193969bf-a924-4e8e-bba7-dcdba263933d"
      },
      "outputs": [
        {
          "name": "stdout",
          "output_type": "stream",
          "text": [
            "/content/bm_aml/pos001_1_EDOF_RGB.tiff\n",
            "/content/bm_aml/pos002_2_EDOF_RGB.tiff\n",
            "/content/bm_aml/pos004_3_EDOF_RGB.tiff\n",
            "/content/bm_aml/pos007_1_EDOF_RGB.tiff\n",
            "/content/bm_aml/pos006_1_EDOF_RGB.tiff\n",
            "/content/bm_aml/pos006_0_EDOF_RGB.tiff\n",
            "/content/bm_aml/pos005_2_EDOF_RGB.tiff\n",
            "/content/bm_aml/pos001_0_EDOF_RGB.tiff\n",
            "/content/bm_aml/pos003_3_EDOF_RGB.tiff\n",
            "/content/bm_aml/pos006_3_EDOF_RGB.tiff\n",
            "/content/bm_aml/pos008_3_EDOF_RGB.tiff\n",
            "/content/bm_aml/pos004_1_EDOF_RGB.tiff\n",
            "/content/bm_aml/pos002_1_EDOF_RGB.tiff\n",
            "/content/bm_aml/pos009_1_EDOF_RGB.tiff\n",
            "/content/bm_aml/pos002_0_EDOF_RGB.tiff\n",
            "/content/bm_aml/pos003_2_EDOF_RGB.tiff\n",
            "/content/bm_aml/pos000_3_EDOF_RGB.tiff\n",
            "/content/bm_aml/pos007_0_EDOF_RGB.tiff\n",
            "/content/bm_aml/pos002_3_EDOF_RGB.tiff\n",
            "/content/bm_aml/pos003_1_EDOF_RGB.tiff\n",
            "/content/bm_aml/pos005_0_EDOF_RGB.tiff\n",
            "/content/bm_aml/pos007_3_EDOF_RGB.tiff\n",
            "/content/bm_aml/pos000_1_EDOF_RGB.tiff\n",
            "/content/bm_aml/pos004_2_EDOF_RGB.tiff\n",
            "/content/bm_aml/pos000_2_EDOF_RGB.tiff\n",
            "/content/bm_aml/pos001_3_EDOF_RGB.tiff\n",
            "/content/bm_aml/pos008_2_EDOF_RGB.tiff\n",
            "/content/bm_aml/pos006_2_EDOF_RGB.tiff\n",
            "/content/bm_aml/pos003_0_EDOF_RGB.tiff\n",
            "/content/bm_aml/pos001_2_EDOF_RGB.tiff\n",
            "/content/bm_aml/pos000_0_EDOF_RGB.tiff\n"
          ]
        }
      ],
      "source": [
        "mse_median_filtering_data = []\n",
        "psnr_median_filtering_data = []\n",
        "ssim_median_filtering_data = []\n",
        "fsim_median_filtering_data = []\n",
        "\n",
        "for img in glob.glob(root_path + \"train/edof/bm-aml/*.*\"):\n",
        "    print(img)\n",
        "    img = cv2.imread(img)\n",
        "    image = cv2.cvtColor(img, cv2.COLOR_BGR2HSV) # convert to HSV\n",
        "    figure_size = 9 # the dimension of the x and y axis of the kernal.\n",
        "    new_image = cv2.medianBlur(image, figure_size)\n",
        "    #MSE\n",
        "    mse = MSE(img, new_image)\n",
        "    mse_median_filtering_data.append(mse)\n",
        "    #PSNR\n",
        "    psnr = PSNR(img, new_image)\n",
        "    psnr_median_filtering_data.append(psnr)\n",
        "    #SSIM\n",
        "    (score, diff) = ssim(img, new_image, full=True, multichannel=True)\n",
        "    ssim_median_filtering_data.append(score)\n",
        "    #FSIM\n",
        "    fsim_val = fsim(img, new_image)\n",
        "    fsim_median_filtering_data.append(fsim_val)\n",
        "\n"
      ]
    },
    {
      "cell_type": "code",
      "execution_count": null,
      "metadata": {
        "colab": {
          "base_uri": "https://localhost:8080/"
        },
        "id": "V7Q_pK-JDAUQ",
        "outputId": "1598a525-8634-4722-8086-044b763b9cc1"
      },
      "outputs": [
        {
          "name": "stdout",
          "output_type": "stream",
          "text": [
            "[78.13462655526621, 80.24052420910493, 76.88036235291281, 77.8368497419946, 78.94977731963735, 77.68881630979938, 76.96809286988811, 78.81434407552084, 77.79801727671682, 78.91374077690972, 78.45550286940586, 76.30945824893904, 84.27851044077931, 78.95711413724923, 79.25961027922453, 78.50378924334491, 78.1835898919753, 77.77168722270447, 88.50597993827161, 79.26868718653549, 79.74752580054012, 77.87528802565586, 76.10684576340664, 77.65891631703317, 78.22319474585262, 77.4693822337963, 78.74532359182099, 79.69208399643132, 78.36342327353395, 76.80729853877315, 78.46327329282407]\n",
            "[29.20236820086639, 29.086866036125528, 29.272649392836485, 29.218951102694085, 29.157294514632945, 29.227218564108874, 29.26769635206769, 29.164750953335794, 29.221118319598865, 29.159277299777237, 29.184569504592567, 29.30501990531013, 28.873635096920136, 29.15689094270819, 29.14028428297425, 29.181897409665005, 29.199647531692044, 29.2225883998194, 28.661077459163444, 29.13978695210964, 29.11363143092814, 29.216806949378057, 29.316566378219804, 29.228890349310767, 29.19744811689007, 29.23950268093688, 29.168555888643194, 29.116651768295043, 29.189669611571027, 29.276778704651637, 29.18413939009666]\n",
            "[0.5004596904579862, 0.5214815183314614, 0.5485238736654917, 0.49822820830051956, 0.48006769492869655, 0.5282810799495756, 0.5250532688339943, 0.5074045603653935, 0.5039255139626676, 0.502745722598762, 0.4768876466124709, 0.482185990739129, 0.5362543695847705, 0.4844322012551167, 0.5116721576115298, 0.4804700797322406, 0.5081130453241695, 0.5219031405411734, 0.529566787567145, 0.48252499486175204, 0.4919522891233297, 0.4921750031734984, 0.5328029526731591, 0.5203388639020474, 0.5138492420288504, 0.5318966725444758, 0.4579376245469588, 0.5032814193456131, 0.4988765777307045, 0.5323759202636072, 0.5169271948596506]\n",
            "[0.40416151870626615, 0.4316936382448158, 0.43426996626405606, 0.4008292971871595, 0.3965745074592893, 0.4328477760317954, 0.4255729461960655, 0.42684581312067094, 0.3976182014284558, 0.4129690583751196, 0.3842487135128109, 0.39570819711306493, 0.44488916465057765, 0.3996692676353657, 0.43409524666696936, 0.3873003148976791, 0.41146341519800966, 0.427475263662818, 0.44451203061269323, 0.3878994201241491, 0.39894947394022645, 0.39660860587259156, 0.4146764300795415, 0.4199410197292297, 0.4122229670216269, 0.4164880602944872, 0.39032732034418355, 0.40497198191077804, 0.40636132718441725, 0.42472689237301303, 0.4216866978525591]\n"
          ]
        }
      ],
      "source": [
        "print(mse_median_filtering_data)\n",
        "print(psnr_median_filtering_data)\n",
        "print(ssim_median_filtering_data)\n",
        "print(fsim_median_filtering_data)"
      ]
    },
    {
      "cell_type": "code",
      "execution_count": null,
      "metadata": {
        "colab": {
          "base_uri": "https://localhost:8080/",
          "height": 938
        },
        "id": "WUel4st1DAz_",
        "outputId": "69fbbf4a-2dfa-4c6d-e276-4726141d547f"
      },
      "outputs": [
        {
          "data": {
            "image/png": "[encoded data removed]",
            "text/plain": [
              "<Figure size 1728x1152 with 1 Axes>"
            ]
          },
          "metadata": {},
          "output_type": "display_data"
        }
      ],
      "source": [
        "\n",
        "plt.figure(figsize=(24,16))\n",
        "plt.plot(mse_median_filtering_data, label = \"mse_median_filtering_data\")\n",
        "plt.plot(psnr_median_filtering_data, label = \"psnr_median_filtering_data\")\n",
        "plt.plot(ssim_median_filtering_data, label = \"ssim_median_filtering_data\")\n",
        "plt.plot(fsim_median_filtering_data, label = \"fsim_median_filtering_data\")\n",
        "plt.legend()\n",
        "plt.xlabel('Images')\n",
        "plt.ylabel('Measure Values')\n",
        "plt.title('Median Filtering')\n",
        "plt.show()"
      ]
    },
    {
      "cell_type": "markdown",
      "metadata": {
        "id": "0VTUt_Sum0uY"
      },
      "source": [
        "### **Geometric Mean Filtering**"
      ]
    },
    {
      "cell_type": "markdown",
      "metadata": {
        "id": "0h7q6FHPqKVu"
      },
      "source": [
        "Formula : \\\n",
        " ![image.png](data:image/png;base64,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)\n",
        "\n",
        " \n",
        " Where S(x,y) is the original image, and the filter mask is m by n pixels."
      ]
    },
    {
      "cell_type": "markdown",
      "metadata": {
        "id": "tHgudcBirDhX"
      },
      "source": [
        "log((x1 * x2 * ... * xn)^(1/n)) = (1/n) * (log(x1) + log(x2) + ... + log(xn))"
      ]
    },
    {
      "cell_type": "code",
      "execution_count": null,
      "metadata": {
        "id": "EJBKN_xX3RPz"
      },
      "outputs": [],
      "source": [
        "mse_geomean_filtering_data = []\n",
        "psnr_geomean_filtering_data = []\n",
        "ssim_geomean_filtering_data = []\n",
        "fsim_geomean_filtering_data = []\n",
        "\n",
        "for img in glob.glob(root_path + \"train/edof/bm-aml/*.*\"):\n",
        "    print(img)\n",
        "    img = cv2.imread(img, cv2.IMREAD_GRAYSCALE).astype(float)\n",
        "    rows, cols = img.shape[:2]\n",
        "    print(img.shape)\n",
        "    print(img.shape[2])\n",
        "    \n",
        "    ksize = 5\n",
        "\n",
        "    padsize = int((ksize-1)/2)\n",
        "    pad_img = cv2.copyMakeBorder(img, *[padsize]*4, cv2.BORDER_DEFAULT)\n",
        "    geomean1 = np.zeros_like(img)\n",
        "    for r in range(rows):\n",
        "        for c in range(cols):\n",
        "            geomean1[r, c] = np.prod(pad_img[r:r+ksize, c:c+ksize])**(1/(ksize**2))\n",
        "    new_image = np.uint8(geomean1)\n",
        "\n",
        "    #MSE\n",
        "    mse = MSE(img, new_image)\n",
        "    mse_geomean_filtering_data.append(mse)\n",
        "    #PSNR\n",
        "    psnr = PSNR(img, new_image)\n",
        "    psnr_geomean_filtering_data.append(psnr)\n",
        "    #SSIM\n",
        "    (score, diff) = ssim(img, new_image, full=True, multichannel=True)\n",
        "    ssim_geomean_filtering_data.append(score)\n",
        "    #FSIM\n",
        "    fsim_val = fsim(np.asarray(img), np.asarray(new_image))\n",
        "    fsim_geomean_filtering_data.append(fsim_val)\n",
        "\n"
      ]
    },
    {
      "cell_type": "code",
      "execution_count": null,
      "metadata": {
        "id": "mijvogQvEawR"
      },
      "outputs": [],
      "source": [
        "print(mse_geomean_filtering_data)\n",
        "print(psnr_geomean_filtering_data)\n",
        "print(ssim_geomean_filtering_data)\n",
        "print(fsim_geomean_filtering_data)"
      ]
    },
    {
      "cell_type": "code",
      "execution_count": null,
      "metadata": {
        "id": "MHB8rvEHEkR1"
      },
      "outputs": [],
      "source": [
        "\n",
        "plt.figure(figsize=(24,16))\n",
        "plt.plot(mse_geomean_filtering_data, label = \"mse_geomean_filtering_data\")\n",
        "plt.plot(psnr_geomean_filtering_data, label = \"psnr_geomean_filtering_data\")\n",
        "plt.plot(ssim_geomean_filtering_data, label = \"ssim_geomean_filtering_data\")\n",
        "plt.plot(fsim_geomean_filtering_data, label = \"fsim_geomean_filtering_data\")\n",
        "plt.legend()\n",
        "plt.xlabel('Images')\n",
        "plt.ylabel('Measure Values')\n",
        "plt.title('Geometric Mean Filtering')\n",
        "plt.show()"
      ]
    },
    {
      "cell_type": "code",
      "execution_count": null,
      "metadata": {
        "id": "HrXkpW_Mmz3u"
      },
      "outputs": [],
      "source": [
        "#geomean2 = np.uint8(np.exp(cv2.boxFilter(np.log(img), -1, (ksize, ksize))))"
      ]
    },
    {
      "cell_type": "markdown",
      "metadata": {
        "id": "GchVyxi_35TH"
      },
      "source": [
        "### **Gamma Equalization**"
      ]
    },
    {
      "cell_type": "code",
      "execution_count": null,
      "metadata": {
        "colab": {
          "base_uri": "https://localhost:8080/"
        },
        "id": "j4ytolfVwWE9",
        "outputId": "866445d3-9708-40b1-aec7-0df956810fbc"
      },
      "outputs": [
        {
          "name": "stdout",
          "output_type": "stream",
          "text": [
            "/content/bm_aml/pos006_3_EDOF_RGB.tiff\n",
            "Gamma Value : 0.1\n",
            "Gamma Value : 0.5\n",
            "Gamma Value : 1.5\n",
            "Gamma Value : 2.0\n",
            "Gamma Value : 2.5\n",
            "Gamma Value : 3.0\n",
            "/content/bm_aml/pos007_1_EDOF_RGB.tiff\n",
            "Gamma Value : 0.1\n",
            "Gamma Value : 0.5\n",
            "Gamma Value : 1.5\n",
            "Gamma Value : 2.0\n",
            "Gamma Value : 2.5\n",
            "Gamma Value : 3.0\n",
            "/content/bm_aml/pos007_3_EDOF_RGB.tiff\n",
            "Gamma Value : 0.1\n",
            "Gamma Value : 0.5\n",
            "Gamma Value : 1.5\n",
            "Gamma Value : 2.0\n",
            "Gamma Value : 2.5\n",
            "Gamma Value : 3.0\n",
            "/content/bm_aml/pos008_3_EDOF_RGB.tiff\n",
            "Gamma Value : 0.1\n",
            "Gamma Value : 0.5\n",
            "Gamma Value : 1.5\n",
            "Gamma Value : 2.0\n",
            "Gamma Value : 2.5\n",
            "Gamma Value : 3.0\n",
            "/content/bm_aml/pos007_0_EDOF_RGB.tiff\n",
            "Gamma Value : 0.1\n",
            "Gamma Value : 0.5\n",
            "Gamma Value : 1.5\n",
            "Gamma Value : 2.0\n",
            "Gamma Value : 2.5\n",
            "Gamma Value : 3.0\n",
            "/content/bm_aml/pos008_2_EDOF_RGB.tiff\n",
            "Gamma Value : 0.1\n",
            "Gamma Value : 0.5\n",
            "Gamma Value : 1.5\n",
            "Gamma Value : 2.0\n",
            "Gamma Value : 2.5\n",
            "Gamma Value : 3.0\n",
            "/content/bm_aml/pos009_1_EDOF_RGB.tiff\n",
            "Gamma Value : 0.1\n",
            "Gamma Value : 0.5\n",
            "Gamma Value : 1.5\n",
            "Gamma Value : 2.0\n",
            "Gamma Value : 2.5\n",
            "Gamma Value : 3.0\n"
          ]
        }
      ],
      "source": [
        "mse_gammaeq_data = []\n",
        "psnr_gammaeq_data = []\n",
        "ssim_gammaeq_data = []\n",
        "fsim_gammaeq_data = []\n",
        "\n",
        "mse_data = []\n",
        "psnr_data = []\n",
        "ssim_data = []\n",
        "fsim_data = []\n",
        "\n",
        "\n",
        "def adjust_gamma(image, gamma=1.0):\n",
        "\t# build a lookup table mapping the pixel values [0, 255] to\n",
        "\t# their adjusted gamma values\n",
        "\tinvGamma = 1.0 / gamma\n",
        "\ttable = np.array([((i / 255.0) ** invGamma) * 255\n",
        "\t\tfor i in np.arange(0, 256)]).astype(\"uint8\")\n",
        "\t# apply gamma correction using the lookup table\n",
        "\treturn cv2.LUT(image, table)\n",
        "\n",
        "\n",
        "for img in glob.glob(root_path + \"train/edof/bm-aml/*.*\"):\n",
        "  print(img)\n",
        "  img = cv2.imread(img)\n",
        "  # loop over various values of gamma\n",
        "  for gamma in np.arange(0.0, 3.5, 0.5):\n",
        "    # ignore when gamma is 1 (there will be no change to the image)\n",
        "    if gamma == 1:\n",
        "      continue\n",
        "    # apply gamma correction and show the images\n",
        "    gamma = gamma if gamma > 0 else 0.1\n",
        "    new_image = adjust_gamma(img, gamma=gamma)\n",
        "    #cv2.putText(new_image, \"g={}\".format(gamma), (10, 30), cv2.FONT_HERSHEY_SIMPLEX, 0.8, (0, 0, 255), 3)\n",
        "\n",
        "    print(f\"Gamma Value : {gamma}\")\n",
        "\n",
        "    #MSE\n",
        "    mse = MSE(img, new_image)\n",
        "    mse_data.append(mse)\n",
        "    #PSNR\n",
        "    psnr = PSNR(img, new_image)\n",
        "    psnr_data.append(psnr)\n",
        "    #SSIM\n",
        "    (score, diff) = ssim(img, new_image, full=True, multichannel=True)\n",
        "    ssim_data.append(score)\n",
        "    #FSIM\n",
        "    fsim_val = fsim(np.asarray(img), np.asarray(new_image))\n",
        "    fsim_data.append(fsim_val)\n",
        "\n",
        "  mse_gammaeq_data.append(np.min(mse_data))\n",
        "  psnr_gammaeq_data.append(np.min(psnr_data))\n",
        "  ssim_gammaeq_data.append(np.min(ssim_data))\n",
        "  fsim_gammaeq_data.append(np.min(fsim_data))"
      ]
    },
    {
      "cell_type": "code",
      "execution_count": null,
      "metadata": {
        "colab": {
          "base_uri": "https://localhost:8080/"
        },
        "id": "P-OsPNEgJSq1",
        "outputId": "9b271844-0c2d-481e-eb6c-ca5537ded3a7"
      },
      "outputs": [
        {
          "name": "stdout",
          "output_type": "stream",
          "text": [
            "[101.86356529706791, 101.86356529706791, 101.86356529706791, 101.86356529706791, 101.86356529706791, 101.86356529706791, 101.86356529706791]\n",
            "[27.12173358891591, 27.12173358891591, 27.12173358891591, 26.961259169795394, 26.961259169795394, 26.917512847659317, 26.917512847659317]\n",
            "[0.08048233437866177, 0.08048233437866177, 0.08048233437866177, 0.08048233437866177, 0.06541374553032375, 0.06541374553032375, 0.06541374553032375]\n",
            "[0.5960076643770355, 0.589913880151319, 0.589913880151319, 0.589913880151319, 0.5439900067475482, 0.5439900067475482, 0.5439900067475482]\n"
          ]
        }
      ],
      "source": [
        "print(mse_gammaeq_data)\n",
        "print(psnr_gammaeq_data)\n",
        "print(ssim_gammaeq_data)\n",
        "print(fsim_gammaeq_data) "
      ]
    },
    {
      "cell_type": "code",
      "execution_count": null,
      "metadata": {
        "id": "oXh2qOprJbQk"
      },
      "outputs": [],
      "source": [
        "\n",
        "plt.figure(figsize=(24,16))\n",
        "plt.plot(mse_gammaeq_data, label = \"mse_gammaeq_data\")\n",
        "plt.plot(psnr_gammaeq_data, label = \"psnr_gammaeq_data\")\n",
        "plt.plot(ssim_gammaeq_data, label = \"ssim_gammaeq_data\")\n",
        "plt.plot(fsim_gammaeq_data, label = \"fsim_gammaeq_data\")\n",
        "plt.legend()\n",
        "plt.xlabel('Images')\n",
        "plt.ylabel('Measure Values')\n",
        "plt.title('Gamma Equalization')\n",
        "plt.show() "
      ]
    },
    {
      "cell_type": "markdown",
      "metadata": {
        "id": "k6L1EV8S4A5-"
      },
      "source": [
        "### **Gaussian low-pass filtering**"
      ]
    },
    {
      "cell_type": "code",
      "execution_count": null,
      "metadata": {
        "colab": {
          "base_uri": "https://localhost:8080/"
        },
        "id": "bfFuf_al8ePV",
        "outputId": "053c3def-091f-4232-bf09-bf9baf0dc638"
      },
      "outputs": [
        {
          "name": "stdout",
          "output_type": "stream",
          "text": [
            "/content/bm_aml/pos001_1_EDOF_RGB.tiff\n",
            "/content/bm_aml/pos002_2_EDOF_RGB.tiff\n",
            "/content/bm_aml/pos004_3_EDOF_RGB.tiff\n",
            "/content/bm_aml/pos007_1_EDOF_RGB.tiff\n",
            "/content/bm_aml/pos006_1_EDOF_RGB.tiff\n",
            "/content/bm_aml/pos006_0_EDOF_RGB.tiff\n",
            "/content/bm_aml/pos005_2_EDOF_RGB.tiff\n",
            "/content/bm_aml/pos001_0_EDOF_RGB.tiff\n",
            "/content/bm_aml/pos003_3_EDOF_RGB.tiff\n",
            "/content/bm_aml/pos006_3_EDOF_RGB.tiff\n",
            "/content/bm_aml/pos008_3_EDOF_RGB.tiff\n",
            "/content/bm_aml/pos004_1_EDOF_RGB.tiff\n",
            "/content/bm_aml/pos002_1_EDOF_RGB.tiff\n",
            "/content/bm_aml/pos009_1_EDOF_RGB.tiff\n",
            "/content/bm_aml/pos002_0_EDOF_RGB.tiff\n",
            "/content/bm_aml/pos003_2_EDOF_RGB.tiff\n",
            "/content/bm_aml/pos000_3_EDOF_RGB.tiff\n",
            "/content/bm_aml/pos007_0_EDOF_RGB.tiff\n",
            "/content/bm_aml/pos002_3_EDOF_RGB.tiff\n",
            "/content/bm_aml/pos003_1_EDOF_RGB.tiff\n",
            "/content/bm_aml/pos005_0_EDOF_RGB.tiff\n",
            "/content/bm_aml/pos007_3_EDOF_RGB.tiff\n",
            "/content/bm_aml/pos000_1_EDOF_RGB.tiff\n",
            "/content/bm_aml/pos004_2_EDOF_RGB.tiff\n",
            "/content/bm_aml/pos000_2_EDOF_RGB.tiff\n",
            "/content/bm_aml/pos001_3_EDOF_RGB.tiff\n",
            "/content/bm_aml/pos008_2_EDOF_RGB.tiff\n",
            "/content/bm_aml/pos006_2_EDOF_RGB.tiff\n",
            "/content/bm_aml/pos003_0_EDOF_RGB.tiff\n",
            "/content/bm_aml/pos001_2_EDOF_RGB.tiff\n",
            "/content/bm_aml/pos000_0_EDOF_RGB.tiff\n"
          ]
        }
      ],
      "source": [
        "mse_gauss_low_pass_filtering_data = []\n",
        "psnr_gauss_low_pass_filtering_data = []\n",
        "ssim_gauss_low_pass_filtering_data = []\n",
        "fsim_gauss_low_pass_filtering_data = []\n",
        "\n",
        "for img in glob.glob(root_path + \"train/edof/bm-aml/*.*\"):\n",
        "    print(img)\n",
        "    img = cv2.imread(img)\n",
        "    \n",
        "    new_image = cv2.GaussianBlur(img,(5,5),0)\n",
        "\n",
        "    #MSE\n",
        "    mse = MSE(img, new_image)\n",
        "    mse_gauss_low_pass_filtering_data.append(mse)\n",
        "    #PSNR\n",
        "    psnr = PSNR(img, new_image)\n",
        "    psnr_gauss_low_pass_filtering_data.append(psnr)\n",
        "    #SSIM\n",
        "    (score, diff) = ssim(img, new_image, full=True, multichannel=True)\n",
        "    ssim_gauss_low_pass_filtering_data.append(score)\n",
        "    #FSIM\n",
        "    fsim_val = fsim(np.asarray(img), np.asarray(new_image))\n",
        "    fsim_gauss_low_pass_filtering_data.append(fsim_val)\n",
        "\n",
        "\n"
      ]
    },
    {
      "cell_type": "code",
      "execution_count": null,
      "metadata": {
        "colab": {
          "base_uri": "https://localhost:8080/"
        },
        "id": "Mjo-iyYrJu4r",
        "outputId": "407fe30c-d887-46a8-db48-f11feee0a100"
      },
      "outputs": [
        {
          "name": "stdout",
          "output_type": "stream",
          "text": [
            "[5.771968376253858, 4.991647195698302, 5.909989149305556, 5.75274269386574, 5.697827329282408, 5.484550962094907, 5.590640130690587, 5.783894314236111, 5.840745141300155, 5.63235237027392, 5.888111074942129, 6.014118381076389, 4.289090952932098, 5.759570855034722, 5.641062222704475, 5.980878423996914, 5.8404852671682095, 5.452026728877315, 4.030329258294753, 5.855143651138118, 5.820057689525463, 5.986028706114969, 5.702947289737654, 5.833413869598766, 5.74637996720679, 5.709723186728395, 5.876231372974537, 5.566213228202161, 5.779919945987654, 5.654358241705247, 5.643172200520834]\n",
            "[40.51756417874047, 41.14836478579768, 40.41493677347239, 40.532054113397706, 40.57371076911468, 40.73939284593894, 40.65618823230118, 40.50860012121444, 40.466121044898486, 40.62390543626174, 40.43104366810981, 40.339083884266174, 41.80715105037393, 40.52690235471363, 40.61719470710294, 40.363153864651515, 40.46631428122303, 40.765223845461634, 42.07739833530927, 40.455428062705806, 40.48153071386682, 40.35941565691263, 40.569810032897955, 40.4715757097884, 40.53686021459568, 40.56465307156298, 40.43981473336515, 40.67520521777208, 40.511585375436766, 40.60697040360134, 40.61557057967189]\n",
            "[0.9421349752292608, 0.9530117886250897, 0.9469943271769004, 0.9414320468002844, 0.9389951003555815, 0.952317745873062, 0.9477728242655074, 0.9505677431732503, 0.9404891392409791, 0.9475605068484315, 0.9369660322302616, 0.9384213478714024, 0.9585593833347206, 0.9429293610812911, 0.9531928300421294, 0.9382414770781183, 0.9422574878005813, 0.9514868946152649, 0.9610025238985921, 0.9374775005055268, 0.9426498680372587, 0.9409463438228585, 0.9444540022073008, 0.9455049209020142, 0.9442723747372698, 0.9460652841678409, 0.9368279035044904, 0.9468593402939312, 0.9419408022265282, 0.948628264502295, 0.946558253050635]\n",
            "[0.8238200451047679, 0.8318748370801607, 0.8386822980047919, 0.8251614321024272, 0.8085775727153615, 0.8392700114033108, 0.8343414099348071, 0.8412095283429296, 0.8176922402963762, 0.830239078668069, 0.8068606500164682, 0.8173282337225573, 0.8294296711531911, 0.8216942728496396, 0.8416870946283529, 0.8125638796951721, 0.8256283639049048, 0.8399948245573818, 0.8337910568542096, 0.8145152014621625, 0.8223587376699854, 0.823261071519755, 0.8284571109085231, 0.8331041914976892, 0.8307715705167465, 0.8257157593547331, 0.80829171220554, 0.8239695011315785, 0.8261221599367113, 0.8356438984196398, 0.8321934958415973]\n"
          ]
        }
      ],
      "source": [
        "print(mse_gauss_low_pass_filtering_data)\n",
        "print(psnr_gauss_low_pass_filtering_data)\n",
        "print(ssim_gauss_low_pass_filtering_data)\n",
        "print(fsim_gauss_low_pass_filtering_data) "
      ]
    },
    {
      "cell_type": "code",
      "execution_count": null,
      "metadata": {
        "colab": {
          "base_uri": "https://localhost:8080/",
          "height": 938
        },
        "id": "o1FLrQO1JumS",
        "outputId": "37dfa484-5df0-439b-9fe9-8d8482b7d964"
      },
      "outputs": [
        {
          "data": {
            "image/png": "[encoded data removed]",
            "text/plain": [
              "<Figure size 1728x1152 with 1 Axes>"
            ]
          },
          "metadata": {},
          "output_type": "display_data"
        }
      ],
      "source": [
        "plt.figure(figsize=(24,16))\n",
        "plt.plot(mse_gauss_low_pass_filtering_data, label = \"mse_gauss_low_pass_filtering_data\")\n",
        "plt.plot(psnr_gauss_low_pass_filtering_data, label = \"psnr_gauss_low_pass_filtering_data\")\n",
        "plt.plot(ssim_gauss_low_pass_filtering_data, label = \"ssim_gauss_low_pass_filtering_data\")\n",
        "plt.plot(fsim_gauss_low_pass_filtering_data, label = \"fsim_gauss_low_pass_filtering_data\")\n",
        "plt.legend()\n",
        "plt.xlabel('Images')\n",
        "plt.ylabel('Measure Values')\n",
        "plt.title('Gaussian Low Pass Filtering')\n",
        "plt.show() "
      ]
    },
    {
      "cell_type": "markdown",
      "metadata": {
        "id": "VD46JaayEeQG"
      },
      "source": [
        "### **Gamma Transformation**"
      ]
    },
    {
      "cell_type": "code",
      "execution_count": null,
      "metadata": {
        "colab": {
          "base_uri": "https://localhost:8080/"
        },
        "id": "3_xGXkPc8eC3",
        "outputId": "d49d99bd-e181-4ddf-e6d8-0981dae42194"
      },
      "outputs": [
        {
          "metadata": {
            "tags": null
          },
          "name": "stdout",
          "output_type": "stream",
          "text": [
            "/content/bm_aml/pos001_1_EDOF_RGB.tiff\n",
            "/content/bm_aml/pos002_2_EDOF_RGB.tiff\n",
            "/content/bm_aml/pos004_3_EDOF_RGB.tiff\n",
            "/content/bm_aml/pos007_1_EDOF_RGB.tiff\n",
            "/content/bm_aml/pos006_1_EDOF_RGB.tiff\n",
            "/content/bm_aml/pos006_0_EDOF_RGB.tiff\n",
            "/content/bm_aml/pos005_2_EDOF_RGB.tiff\n",
            "/content/bm_aml/pos001_0_EDOF_RGB.tiff\n",
            "/content/bm_aml/pos003_3_EDOF_RGB.tiff\n",
            "/content/bm_aml/pos006_3_EDOF_RGB.tiff\n"
          ]
        }
      ],
      "source": [
        "\n",
        "mse_gamma_trans_data = []\n",
        "psnr_gamma_trans_data = []\n",
        "ssim_gamma_trans_data = []\n",
        "fsim_gamma_trans_data = []\n",
        "\n",
        "mse_data = []\n",
        "psnr_data = []\n",
        "ssim_data = []\n",
        "fsim_data = []\n",
        "\n",
        "\n",
        "\n",
        "for img in glob.glob(root_path + \"train/edof/bm-aml/*.*\"):\n",
        "    print(img)\n",
        "    img = cv2.imread(img)\n",
        "    \n",
        "    # Trying 4 gamma values.\n",
        "    for gamma in [0.1, 0.5, 1.2, 2.2]:\n",
        "        # Apply gamma correction.\n",
        "        new_image = np.array(255*(img / 255) ** gamma, dtype = 'uint8')\n",
        "\n",
        "        #MSE\n",
        "        mse = MSE(img, new_image)\n",
        "        mse_data.append(mse)\n",
        "        #PSNR\n",
        "        psnr = PSNR(img, new_image)\n",
        "        psnr_data.append(psnr)\n",
        "        #SSIM\n",
        "        (score, diff) = ssim(img, new_image, full=True, multichannel=True)\n",
        "        ssim_data.append(score)\n",
        "        #FSIM\n",
        "        fsim_val = fsim(np.asarray(img), np.asarray(new_image))\n",
        "        fsim_data.append(fsim_val)\n",
        "\n",
        "    mse_gamma_trans_data.append(np.min(mse_data))\n",
        "    psnr_gamma_trans_data.append(np.min(psnr_data))\n",
        "    ssim_gamma_trans_data.append(np.min(ssim_data))\n",
        "    fsim_gamma_trans_data.append(np.min(fsim_data))\n",
        "\n"
      ]
    },
    {
      "cell_type": "code",
      "execution_count": null,
      "metadata": {
        "id": "lZL_nNBtKEaM"
      },
      "outputs": [],
      "source": [
        "print(mse_gamma_trans_data)\n",
        "print(psnr_gamma_trans_data)\n",
        "print(ssim_gamma_trans_data)\n",
        "print(fsim_gamma_trans_data) "
      ]
    },
    {
      "cell_type": "code",
      "execution_count": null,
      "metadata": {
        "id": "Wjc-4qVpKEWp"
      },
      "outputs": [],
      "source": [
        "plt.figure(figsize=(24,16))\n",
        "plt.plot(mse_geomean_filtering_data, label = \"mse_gamma_trans_data\")\n",
        "plt.plot(psnr_geomean_filtering_data, label = \"psnr_gamma_trans_data\")\n",
        "plt.plot(ssim_geomean_filtering_data, label = \"ssim_gamma_trans_data\")\n",
        "plt.plot(fsim_geomean_filtering_data, label = \"fsim_gamma_trans_data\")\n",
        "plt.legend()\n",
        "plt.xlabel('Images')\n",
        "plt.ylabel('Measure Values')\n",
        "plt.title('Gamma Transformation')\n",
        "plt.show() "
      ]
    },
    {
      "cell_type": "markdown",
      "metadata": {
        "id": "qtZpbEJtH2wA"
      },
      "source": [
        "### **Perona-Malik denoising model**"
      ]
    },
    {
      "cell_type": "code",
      "execution_count": null,
      "metadata": {
        "id": "X1RBjmwL8d9x"
      },
      "outputs": [],
      "source": [
        "\"\"\" Perona Malik Diffusion\n",
        "    for Edge Detection\n",
        "\"\"\"\n",
        "\n",
        "from scipy import misc, ndimage\n",
        "\n",
        "# SETTINGS:\n",
        "iterations = 30\n",
        "delta = 0.14\n",
        "kappa = 15\n",
        "\n",
        "mse_perona_malik_data = []\n",
        "psnr_perona_malik_data = []\n",
        "ssim_perona_malik_data = []\n",
        "fsim_perona_malik_data = []\n",
        "\n",
        "# center pixel distances\n",
        "dx = 1\n",
        "dy = 1\n",
        "dd = np.sqrt(2)\n",
        "\n",
        "# 2D finite difference windows\n",
        "windows = [\n",
        "    np.array([[0, 1, 0], [0, -1, 0], [0, 0, 0]], np.float64),\n",
        "    np.array([[0, 0, 0], [0, -1, 0], [0, 1, 0]], np.float64),\n",
        "    np.array([[0, 0, 0], [0, -1, 1], [0, 0, 0]], np.float64),\n",
        "    np.array([[0, 0, 0], [1, -1, 0], [0, 0, 0]], np.float64),\n",
        "    np.array([[0, 0, 1], [0, -1, 0], [0, 0, 0]], np.float64),\n",
        "    np.array([[0, 0, 0], [0, -1, 0], [0, 0, 1]], np.float64),\n",
        "    np.array([[0, 0, 0], [0, -1, 0], [1, 0, 0]], np.float64),\n",
        "    np.array([[1, 0, 0], [0, -1, 0], [0, 0, 0]], np.float64),\n",
        "]\n",
        "\n",
        "\n",
        "for img in glob.glob(root_path + \"train/edof/bm-aml/*.*\"):\n",
        "    print(img)\n",
        "\n",
        "    # convert input image\n",
        "    #img = imageio.imread(img, as_gray=True)\n",
        "    img = cv2.imread(img, 0)\n",
        "    img = img.astype('float64')\n",
        "\n",
        "    # initial condition\n",
        "    u = img\n",
        "\n",
        "    for r in range(iterations):\n",
        "        # approximate gradients\n",
        "        nabla = [ ndimage.filters.convolve(u, w) for w in windows ]\n",
        "\n",
        "        # approximate diffusion function\n",
        "        diff = [ 1./(1 + (n/kappa)**2) for n in nabla]\n",
        "\n",
        "        # update image\n",
        "        terms = [diff[i]*nabla[i] for i in range(4)]\n",
        "        terms += [(1/(dd**2))*diff[i]*nabla[i] for i in range(4, 8)]\n",
        "        u = u + delta*(sum(terms))\n",
        "\n",
        "\n",
        "    # Kernel for Gradient in x-direction\n",
        "    Kx = np.array([[-1, 0, 1], [-2, 0, 2], [-1, 0, 1]], np.int32)\n",
        "    # Kernel for Gradient in y-direction\n",
        "    Ky = np.array([[1, 2, 1], [0, 0, 0], [-1, -2, -1]], np.int32)\n",
        "    # Apply kernels to the image\n",
        "    Ix = ndimage.filters.convolve(u, Kx)\n",
        "    Iy = ndimage.filters.convolve(u, Ky)\n",
        "\n",
        "    # return norm of (Ix, Iy)\n",
        "    G = np.hypot(Ix, Iy)\n",
        "\n",
        "\n",
        "    #MSE\n",
        "    mse = MSE(img, u)\n",
        "    mse_perona_malik_data.append(mse)\n",
        "    #PSNR\n",
        "    psnr = PSNR(img, u)\n",
        "    psnr_perona_malik_data.append(psnr)\n",
        "    #SSIM\n",
        "    (score, diff) = ssim(img, u, full=True, multichannel=True)\n",
        "    ssim_perona_malik_data.append(score)\n",
        "    #FSIM\n",
        "    fsim_val = fsim(np.asarray(img), np.asarray(u))\n",
        "    fsim_perona_malik_data.append(fsim_val)\n",
        "\n"
      ]
    },
    {
      "cell_type": "code",
      "execution_count": null,
      "metadata": {
        "id": "4jd1p5PLLh4R"
      },
      "outputs": [],
      "source": [
        "print(mse_perona_malik_data)\n",
        "print(psnr_perona_malik_data)\n",
        "print(ssim_perona_malik_data)\n",
        "print(fsim_perona_malik_data) "
      ]
    },
    {
      "cell_type": "code",
      "execution_count": null,
      "metadata": {
        "id": "6syBlY50LjO9"
      },
      "outputs": [],
      "source": [
        "plt.figure(figsize=(24,16))\n",
        "plt.plot(mse_perona_malik_data, label = \"mse_perona_malik_data\")\n",
        "plt.plot(psnr_perona_malik_data, label = \"psnr_perona_malik_data\")\n",
        "plt.plot(ssim_perona_malik_data, label = \"ssim_perona_malik_data\")\n",
        "plt.plot(fsim_perona_malik_data, label = \"fsim_perona_malik_data\")\n",
        "plt.legend()\n",
        "plt.xlabel('Images')\n",
        "plt.ylabel('Measure Values')\n",
        "plt.title('Perona Malik Denoising Model')\n",
        "plt.show()  "
      ]
    },
    {
      "cell_type": "markdown",
      "metadata": {
        "id": "QvocbFvGUwWU"
      },
      "source": [
        "###**10-Fold Cross Validation**"
      ]
    },
    {
      "cell_type": "code",
      "source": [
        "datasetFolderName=root_path\n",
        "sourceFiles=[]\n",
        "classLabels=['edof', 'stacks']\n",
        "subClassLabels=['bm-aml', 'bm-nhl']\n",
        "\n",
        "X=[]\n",
        "Y=[]\n",
        "\n",
        "img_rows, img_cols =  2560, 2160 # input image dimensions\n",
        "test_path=datasetFolderName+'/test/'\n",
        "train_path=datasetFolderName+'/train/'"
      ],
      "metadata": {
        "id": "hvh6gE3p-DJV"
      },
      "execution_count": null,
      "outputs": []
    },
    {
      "cell_type": "code",
      "metadata": {
        "id": "X_6tNUr8pw1b"
      },
      "source": [
        "def prepareNameWithLabels(folderName1, folderName2):\n",
        "    sourceFiles=os.listdir(datasetFolderName+'/train/'+folderName1+'/'+folderName2)\n",
        "    for val in sourceFiles:\n",
        "        X.append(val)\n",
        "        for i in range(len(classLabels)):\n",
        "            if(folderName1==classLabels[i]):\n",
        "                Y.append(i)"
      ],
      "execution_count": null,
      "outputs": []
    },
    {
      "cell_type": "code",
      "metadata": {
        "id": "ABR_vPykp6Fx"
      },
      "source": [
        "# Organize file names and class labels in X and Y variables\n",
        "for i in range(len(classLabels)):\n",
        "    prepareNameWithLabels(classLabels[i], subClassLabels[0])\n",
        "    prepareNameWithLabels(classLabels[i], subClassLabels[1])"
      ],
      "execution_count": null,
      "outputs": []
    },
    {
      "cell_type": "code",
      "metadata": {
        "id": "ct4KgEXpp8vz"
      },
      "source": [
        "X=np.asarray(X)\n",
        "Y=np.asarray(Y)"
      ],
      "execution_count": null,
      "outputs": []
    },
    {
      "cell_type": "code",
      "source": [
        "kf = KFold(n_splits=10, random_state=None, shuffle=False)\n",
        "kf.get_n_splits(X)\n",
        "print(kf)"
      ],
      "metadata": {
        "colab": {
          "base_uri": "https://localhost:8080/"
        },
        "id": "LxhWNX4zEwPg",
        "outputId": "668fd85a-2470-487b-c996-1e7b210e10f5"
      },
      "execution_count": null,
      "outputs": [
        {
          "output_type": "stream",
          "name": "stdout",
          "text": [
            "KFold(n_splits=10, random_state=None, shuffle=False)\n"
          ]
        }
      ]
    },
    {
      "cell_type": "code",
      "source": [
        "for train_index, test_index in kf.split(X):\n",
        "    print(\"TRAIN:\", train_index, \"\\nTEST:\", test_index)\n",
        "    X_train, X_test = X[train_index], X[test_index]\n",
        "    y_train, y_test = Y[train_index], Y[test_index]\n",
        "    print('\\n')"
      ],
      "metadata": {
        "colab": {
          "base_uri": "https://localhost:8080/"
        },
        "id": "xqLgRIwKE3c-",
        "outputId": "7d9dfa11-774c-4b3a-d214-b556e53589d6"
      },
      "execution_count": null,
      "outputs": [
        {
          "output_type": "stream",
          "name": "stdout",
          "text": [
            "TRAIN: [10 11 12 13 14 15 16 17 18 19 20 21 22 23 24 25 26 27 28 29 30 31 32 33\n",
            " 34 35 36 37 38 39 40 41 42 43 44 45 46 47 48 49 50 51 52 53 54 55 56 57\n",
            " 58 59 60 61 62 63 64 65 66 67 68 69 70 71 72 73 74 75 76 77 78 79 80 81\n",
            " 82 83 84 85 86 87 88 89 90 91 92 93 94 95 96 97 98 99] \n",
            "TEST: [0 1 2 3 4 5 6 7 8 9]\n",
            "\n",
            "\n",
            "TRAIN: [ 0  1  2  3  4  5  6  7  8  9 20 21 22 23 24 25 26 27 28 29 30 31 32 33\n",
            " 34 35 36 37 38 39 40 41 42 43 44 45 46 47 48 49 50 51 52 53 54 55 56 57\n",
            " 58 59 60 61 62 63 64 65 66 67 68 69 70 71 72 73 74 75 76 77 78 79 80 81\n",
            " 82 83 84 85 86 87 88 89 90 91 92 93 94 95 96 97 98 99] \n",
            "TEST: [10 11 12 13 14 15 16 17 18 19]\n",
            "\n",
            "\n",
            "TRAIN: [ 0  1  2  3  4  5  6  7  8  9 10 11 12 13 14 15 16 17 18 19 30 31 32 33\n",
            " 34 35 36 37 38 39 40 41 42 43 44 45 46 47 48 49 50 51 52 53 54 55 56 57\n",
            " 58 59 60 61 62 63 64 65 66 67 68 69 70 71 72 73 74 75 76 77 78 79 80 81\n",
            " 82 83 84 85 86 87 88 89 90 91 92 93 94 95 96 97 98 99] \n",
            "TEST: [20 21 22 23 24 25 26 27 28 29]\n",
            "\n",
            "\n",
            "TRAIN: [ 0  1  2  3  4  5  6  7  8  9 10 11 12 13 14 15 16 17 18 19 20 21 22 23\n",
            " 24 25 26 27 28 29 40 41 42 43 44 45 46 47 48 49 50 51 52 53 54 55 56 57\n",
            " 58 59 60 61 62 63 64 65 66 67 68 69 70 71 72 73 74 75 76 77 78 79 80 81\n",
            " 82 83 84 85 86 87 88 89 90 91 92 93 94 95 96 97 98 99] \n",
            "TEST: [30 31 32 33 34 35 36 37 38 39]\n",
            "\n",
            "\n",
            "TRAIN: [ 0  1  2  3  4  5  6  7  8  9 10 11 12 13 14 15 16 17 18 19 20 21 22 23\n",
            " 24 25 26 27 28 29 30 31 32 33 34 35 36 37 38 39 50 51 52 53 54 55 56 57\n",
            " 58 59 60 61 62 63 64 65 66 67 68 69 70 71 72 73 74 75 76 77 78 79 80 81\n",
            " 82 83 84 85 86 87 88 89 90 91 92 93 94 95 96 97 98 99] \n",
            "TEST: [40 41 42 43 44 45 46 47 48 49]\n",
            "\n",
            "\n",
            "TRAIN: [ 0  1  2  3  4  5  6  7  8  9 10 11 12 13 14 15 16 17 18 19 20 21 22 23\n",
            " 24 25 26 27 28 29 30 31 32 33 34 35 36 37 38 39 40 41 42 43 44 45 46 47\n",
            " 48 49 60 61 62 63 64 65 66 67 68 69 70 71 72 73 74 75 76 77 78 79 80 81\n",
            " 82 83 84 85 86 87 88 89 90 91 92 93 94 95 96 97 98 99] \n",
            "TEST: [50 51 52 53 54 55 56 57 58 59]\n",
            "\n",
            "\n",
            "TRAIN: [ 0  1  2  3  4  5  6  7  8  9 10 11 12 13 14 15 16 17 18 19 20 21 22 23\n",
            " 24 25 26 27 28 29 30 31 32 33 34 35 36 37 38 39 40 41 42 43 44 45 46 47\n",
            " 48 49 50 51 52 53 54 55 56 57 58 59 70 71 72 73 74 75 76 77 78 79 80 81\n",
            " 82 83 84 85 86 87 88 89 90 91 92 93 94 95 96 97 98 99] \n",
            "TEST: [60 61 62 63 64 65 66 67 68 69]\n",
            "\n",
            "\n",
            "TRAIN: [ 0  1  2  3  4  5  6  7  8  9 10 11 12 13 14 15 16 17 18 19 20 21 22 23\n",
            " 24 25 26 27 28 29 30 31 32 33 34 35 36 37 38 39 40 41 42 43 44 45 46 47\n",
            " 48 49 50 51 52 53 54 55 56 57 58 59 60 61 62 63 64 65 66 67 68 69 80 81\n",
            " 82 83 84 85 86 87 88 89 90 91 92 93 94 95 96 97 98 99] \n",
            "TEST: [70 71 72 73 74 75 76 77 78 79]\n",
            "\n",
            "\n",
            "TRAIN: [ 0  1  2  3  4  5  6  7  8  9 10 11 12 13 14 15 16 17 18 19 20 21 22 23\n",
            " 24 25 26 27 28 29 30 31 32 33 34 35 36 37 38 39 40 41 42 43 44 45 46 47\n",
            " 48 49 50 51 52 53 54 55 56 57 58 59 60 61 62 63 64 65 66 67 68 69 70 71\n",
            " 72 73 74 75 76 77 78 79 90 91 92 93 94 95 96 97 98 99] \n",
            "TEST: [80 81 82 83 84 85 86 87 88 89]\n",
            "\n",
            "\n",
            "TRAIN: [ 0  1  2  3  4  5  6  7  8  9 10 11 12 13 14 15 16 17 18 19 20 21 22 23\n",
            " 24 25 26 27 28 29 30 31 32 33 34 35 36 37 38 39 40 41 42 43 44 45 46 47\n",
            " 48 49 50 51 52 53 54 55 56 57 58 59 60 61 62 63 64 65 66 67 68 69 70 71\n",
            " 72 73 74 75 76 77 78 79 80 81 82 83 84 85 86 87 88 89] \n",
            "TEST: [90 91 92 93 94 95 96 97 98 99]\n",
            "\n",
            "\n"
          ]
        }
      ]
    },
    {
      "cell_type": "markdown",
      "metadata": {
        "id": "tVCFZ0y4Hj9l"
      },
      "source": [
        "\n",
        "\n",
        "---\n",
        "\n"
      ]
    }
  ],
  "metadata": {
    "colab": {
      "collapsed_sections": [],
      "name": "4PI.ipynb",
      "provenance": []
    },
    "gpuClass": "standard",
    "kernelspec": {
      "display_name": "Python 3",
      "name": "python3"
    },
    "language_info": {
      "name": "python"
    }
  },
  "nbformat": 4,
  "nbformat_minor": 0
}